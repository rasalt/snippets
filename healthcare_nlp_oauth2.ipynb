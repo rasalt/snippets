{
 "cells": [
  {
   "cell_type": "code",
   "execution_count": 18,
   "id": "745c0190-7e9f-4c61-a1a9-75b4f55209b9",
   "metadata": {},
   "outputs": [
    {
     "name": "stdout",
     "output_type": "stream",
     "text": [
      "https://healthcare.googleapis.com/v1/projects/rh20-260602/locations/us-central1/services/nlp:analyzeEntities\n",
      "{'nlpService': 'projects/rh20-260602/locations/us-central1/services/nlp', 'documentContent': 'Insulin regimen human 5 units IV administered.'}\n",
      "-----------------------------------\n",
      "{'entityMentions': [{'mentionId': '1', 'type': 'MEDICINE', 'text': {'content': 'Insulin regimen', 'beginOffset': 0}, 'linkedEntities': [{'entityId': 'UMLS/C0021641'}, {'entityId': 'UMLS/C0795635'}, {'entityId': 'UMLS/C1533581'}, {'entityId': 'UMLS/C3537244'}, {'entityId': 'UMLS/C3714501'}], 'temporalAssessment': {'value': 'CURRENT', 'confidence': 0.8573660850524902}, 'certaintyAssessment': {'value': 'LIKELY', 'confidence': 0.9751282930374146}, 'subject': {'value': 'PATIENT', 'confidence': 0.9995787739753723}, 'confidence': 0.6379408836364746}, {'mentionId': '2', 'type': 'MED_DOSE', 'text': {'content': '5 units', 'beginOffset': 22}, 'confidence': 0.7443782091140747}, {'mentionId': '3', 'type': 'MED_ROUTE', 'text': {'content': 'IV', 'beginOffset': 30}, 'linkedEntities': [{'entityId': 'UMLS/C0348016'}], 'confidence': 0.779011607170105}], 'entities': [{'entityId': 'UMLS/C0021641', 'preferredTerm': 'Insulin', 'vocabularyCodes': ['FMA/83365', 'LNC/LA15805-7', 'LNC/LP14676-8', 'LNC/LP16325-0', 'LNC/LP32542-0', 'LNC/LP70329-5', 'LNC/MTHU002108', 'LNC/MTHU019392', 'MSH/D007328', 'MTH/NOCODE']}, {'entityId': 'UMLS/C0348016', 'preferredTerm': 'Intravenous', 'vocabularyCodes': ['LNC/LA9437-0', 'LNC/LP32453-0', 'MTH/NOCODE', 'NCI/C13346']}, {'entityId': 'UMLS/C0795635', 'preferredTerm': 'insulin, regular, human', 'vocabularyCodes': ['LNC/LP17001-6', 'MSH/D061386', 'MTH/NOCODE', 'NCI/C29125', 'RXNORM/253182', 'VANDF/4017559', 'VANDF/4017569', 'VANDF/4019786']}, {'entityId': 'UMLS/C1533581', 'preferredTerm': 'Therapeutic Insulin', 'vocabularyCodes': ['MTH/NOCODE', 'NCI/C581']}, {'entityId': 'UMLS/C3537244', 'preferredTerm': 'Insulins', 'vocabularyCodes': ['MSH/D061385', 'MTH/NOCODE']}, {'entityId': 'UMLS/C3714501', 'preferredTerm': 'Insulin Drug Class', 'vocabularyCodes': ['MTH/NOCODE', 'VANDF/4021631']}], 'relationships': [{'subjectId': '1', 'objectId': '2', 'confidence': 0.9996469616889954}, {'subjectId': '1', 'objectId': '3', 'confidence': 0.9995671510696411}]}\n"
     ]
    }
   ],
   "source": [
    "from google.oauth2 import service_account\n",
    "from google.auth.transport.requests import AuthorizedSession\n",
    "PROJECT_ID=\"rh20-260602\"\n",
    "URL=\"https://healthcare.googleapis.com/v1/projects/\"+PROJECT_ID+\"/locations/us-central1/services/nlp:analyzeEntities\"\n",
    "NLP_SERVICE='projects/'+PROJECT_ID+'/locations/us-central1/services/nlp'\n",
    "\n",
    "# Define the required scopes\n",
    "scopes = [\n",
    "    \"https://www.googleapis.com/auth/cloud-platform\"\n",
    "]\n",
    "\n",
    "# Authenticate a credential with the service account\n",
    "credentials = service_account.Credentials.from_service_account_file(\n",
    "    \"rh20-260602-fc98384103ac.json\", scopes=scopes)\n",
    "\n",
    "# Use the credentials object to authenticate a Requests session.\n",
    "authed_session = AuthorizedSession(credentials)\n",
    "\n",
    "payload = {\n",
    "    'nlpService': NLP_SERVICE,\n",
    "    'documentContent': 'Insulin regimen human 5 units IV administered.'\n",
    "}\n",
    "# Use the credentials object to authenticate a Requests session.\n",
    "url = URL\n",
    "print(url)\n",
    "print(payload)\n",
    "headers = {\"Accept\": \"application/json\"}\n",
    "response = authed_session.post(\n",
    "    url,\n",
    "    json = payload,\n",
    "    headers=headers\n",
    ")\n",
    "\n",
    "data = response.json()\n",
    "print(\"-----------------------------------\")\n",
    "print(json.dumps(data, indent = 4)\n"
   ]
  },
  {
   "cell_type": "code",
   "execution_count": null,
   "id": "f4ce559a-8757-4d87-b47e-e9788dd800a3",
   "metadata": {},
   "outputs": [],
   "source": []
  },
  {
   "cell_type": "code",
   "execution_count": null,
   "id": "99465e09-9b11-4d8a-a5fe-8444d4e7b24d",
   "metadata": {},
   "outputs": [],
   "source": []
  }
 ],
 "metadata": {
  "environment": {
   "kernel": "python3",
   "name": "common-cpu.m94",
   "type": "gcloud",
   "uri": "gcr.io/deeplearning-platform-release/base-cpu:m94"
  },
  "kernelspec": {
   "display_name": "Python 3",
   "language": "python",
   "name": "python3"
  },
  "language_info": {
   "codemirror_mode": {
    "name": "ipython",
    "version": 3
   },
   "file_extension": ".py",
   "mimetype": "text/x-python",
   "name": "python",
   "nbconvert_exporter": "python",
   "pygments_lexer": "ipython3",
   "version": "3.7.12"
  }
 },
 "nbformat": 4,
 "nbformat_minor": 5
}
