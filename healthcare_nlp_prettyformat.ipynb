{
 "cells": [
  {
   "cell_type": "markdown",
   "id": "c778abc5-d4cb-4092-ada6-a1cad2953730",
   "metadata": {},
   "source": [
    "## Using the NLP API in the notebook"
   ]
  },
  {
   "cell_type": "code",
   "execution_count": 17,
   "id": "d9193eef-0e5a-43b7-844b-c66ae3faa0c6",
   "metadata": {},
   "outputs": [
    {
     "name": "stdout",
     "output_type": "stream",
     "text": [
      "{'HISTORY': 'HISTORY: Low back pain for a few months with pain radiating to left leg.', 'TECHNIQUE': 'TECHNIQUE: Sagittal T1 and T2 and axial T2-weighted sequences were obtained through thelumbar spine without IV contrast.', 'FINDINGS': 'FINDINGS: There is no focal marrow-replacing process identified. There is no fractureidentified. The conus medullaris appears in the appropriate position. The distal thoracic cord isunremarkable. The sacrum is homogeneous. The STIR sequences demonstrate no bone marrowedema or fracture.At T12-L1, there is no canal stenosis identified. The disc space height is maintained. The neuralforamina are patent.At L1-2, there is no canal stenosis identified. The disc space height is maintained. The neuralforamina are patent.At L2-3, there is no canal stenosis identified. The disc space height is maintained. The neuralforamina are patent.At L3-4, there is no canal stenosis identified. The disc space height is maintained. The neuralforamina are patent.At L4-5, there is a disc herniation of protrusion type toward the left which does encroach uponthe proximal left L5 nerve root. The neural foramina demonstrate mild narrowing bilaterally.There facet arthropathy identified, mild to moderate in severity.Continued on the following page.At L5-S1, there is no canal stenosis. The disc space height is maintained. The neural foraminaare patent.', 'IMPRESSION': 'IMPRESSION:1. L4-5 disc bulge and disc herniation of protrusion type with mild canal stenosis andencroachment on the proximal left L5 nerve root. The neural foramina demonstrate mildnarrowing bilaterally.2. Loss of the lumbar lordosis. There is no fracture identified.'}\n",
      "----------------------\n",
      " \n",
      "\n",
      "{'HISTORY': 'HISTORY: Chronic neck pain.', 'TECHNIQUE': 'TECHNIQUE: Sagittal T1, T2 gradient-echo, axial gradient-echo sequences were obtained through thecervical spine. Additional MR myelographic sequence was performed.', 'COMPARISON': 'COMPARISON: No prior films are available for comparison.', 'FINDINGS': 'FINDINGS: There is loss of cervical lordosis is identified. Posterior spinous processes are intact. Thereis loss of disc space height at C5-6 and C6-7 with osteophyte extending anteriorly. No syrinx is identifiedin the cord.The ring of C1 is intact. Atlantoaxial joint has hypertrophic changes. Cervical ligaments at the base ofthe skull appear intact.In the upper thoracic spine, there is no canal stenosis identified.STIR sequences demonstrate no significant bone marrow edema.The facets appear unremarkable. Alar ligaments demonstrate no hyperintense signal.At C2-3, there is disc bulge diffusely and facet hypertrophy, moderate to marked in severity. There ismild left foraminal narrowing identified.At C3-4, there is focal disc herniation protrusion type identified with mild canal stenosis. The neuralforamina demonstrate narrowing towards the left, moderate-to-marked in severity with uncovertebral jointhypertrophy and facet arthropathy identified.At C4-5, there is disc bulge and disc herniation to the right with moderate canal stenosis and cordindentation with foraminal narrowing identified bilaterally, worse towards the right marked in severity.There is facet arthropathy, worse towards the right side.Continued on the following page.At C5-6, there is disc bulge and disc herniation identified with moderate to severe canal stenosis and cordindentation with foraminal narrowing bilaterally, marked in severity worse towards the right.At C6-7, there is central disc herniation protrusion type with moderate to severe canal stenosis and cordindentation with foraminal narrowing identified bilaterally, worse towards the left moderate in severity.At C7-T1, disc herniation centrally is identified with moderate canal stenosis identified. There isanterolisthesis of 3 mm identified. There is foraminal narrowing identified bilaterally, moderate-to-marked in severity worse towards the left side. Uncovertebral joint hypertrophy and facetosteoarthropathy is identified.There is scattered lymphadenopathy identified throughout the neck and clinical correlation isrecommended to assess this adenopathy further. Lymphadenopathy is worst towards the leftsupraclavicular region.', 'IMPRESSION': 'IMPRESSION:1. C5-6 disc bulge and disc herniation to the right with moderate to severe canal stenosis and cordindentation with foraminal narrowing bilaterally, worse towards the marked in severity.2. C6-7 disc bulge is identified with disc herniation and moderate to severe canal stenosis with cordindentation and foraminal narrowing identified bilaterally, mild towards the right and moderatetowards the left.3. C4-5 disc bulge and disc herniation to the right with moderate canal stenosis and cord indentationwith foraminal narrowing identified, worse towards the right marked in severity.4. C3-4 focal disc herniation protrusion type without canal stenosis.5. There is lymphadenopathy in the neck identified with dominant area of apparent left-sidedsupraclavicular adenopathy identified measuring approximately 2.7 cm. Correlation with CTneck with contrast is recommended to assess this adenopathy further as underlying lymphomawould be of utmost concern given the size of the lymphadenopathy that is present.'}\n",
      "----------------------\n",
      " \n",
      "\n"
     ]
    }
   ],
   "source": [
    "text1 = \"\"\"{'HISTORY': 'HISTORY: Low back pain for a few months with pain radiating to left leg.\\n', 'TECHNIQUE': 'TECHNIQUE: Sagittal T1 and T2 and axial T2-weighted sequences were obtained through the\\nlumbar spine without IV contrast.\\n', \n",
    "'FINDINGS': 'FINDINGS: There is no focal marrow-replacing process identified. There is no fracture\\nidentified. The conus medullaris appears in the appropriate position. The distal thoracic cord is\\nunremarkable. The sacrum is homogeneous. The STIR sequences demonstrate no bone marrow\\nedema or fracture.\\nAt T12-L1, there is no canal stenosis identified. The disc space height is maintained. The neural\\nforamina are patent.\\nAt L1-2, there is no canal stenosis identified. The disc space height is maintained. The neural\\nforamina are patent.\\nAt L2-3, there is no canal stenosis identified. The disc space height is maintained. The neural\\nforamina are patent.\\nAt L3-4, there is no canal stenosis identified. The disc space height is maintained. The neural\\nforamina are patent.\\nAt L4-5, there is a disc herniation of protrusion type toward the left which does encroach upon\\nthe proximal left L5 nerve root. The neural foramina demonstrate mild narrowing bilaterally.\\nThere facet arthropathy identified, mild to moderate in severity.\\nContinued on the following page.\\nAt L5-S1, there is no canal stenosis. The disc space height is maintained. The neural foramina\\nare patent.\\n', \n",
    "'IMPRESSION': 'IMPRESSION:\\n1. L4-5 disc bulge and disc herniation of protrusion type with mild canal stenosis and\\nencroachment on the proximal left L5 nerve root. The neural foramina demonstrate mild\\nnarrowing bilaterally.\\n2. Loss of the lumbar lordosis. There is no fracture identified.\\n'}\"\"\"\n",
    "\n",
    "text1 = text1.replace(\"\\n\", \"\")\n",
    "\n",
    "text2 = \"\"\"{'HISTORY': 'HISTORY: Chronic neck pain.\\n', \n",
    "'TECHNIQUE': 'TECHNIQUE: Sagittal T1, T2 gradient-echo, axial gradient-echo sequences were obtained through the\\ncervical spine. Additional MR myelographic sequence was performed.\\n', \n",
    "'COMPARISON': 'COMPARISON: No prior films are available for comparison.\\n', \n",
    "'FINDINGS': 'FINDINGS: There is loss of cervical lordosis is identified. Posterior spinous processes are intact. There\\nis loss of disc space height at C5-6 and C6-7 with osteophyte extending anteriorly. No syrinx is identified\\nin the cord.\\nThe ring of C1 is intact. Atlantoaxial joint has hypertrophic changes. Cervical ligaments at the base of\\nthe skull appear intact.\\nIn the upper thoracic spine, there is no canal stenosis identified.\\nSTIR sequences demonstrate no significant bone marrow edema.\\nThe facets appear unremarkable. Alar ligaments demonstrate no hyperintense signal.\\nAt C2-3, there is disc bulge diffusely and facet hypertrophy, moderate to marked in severity. There is\\nmild left foraminal narrowing identified.\\nAt C3-4, there is focal disc herniation protrusion type identified with mild canal stenosis. The neural\\nforamina demonstrate narrowing towards the left, moderate-to-marked in severity with uncovertebral joint\\nhypertrophy and facet arthropathy identified.\\nAt C4-5, there is disc bulge and disc herniation to the right with moderate canal stenosis and cord\\nindentation with foraminal narrowing identified bilaterally, worse towards the right marked in severity.\\nThere is facet arthropathy, worse towards the right side.\\nContinued on the following page.\\nAt C5-6, there is disc bulge and disc herniation identified with moderate to severe canal stenosis and cord\\nindentation with foraminal narrowing bilaterally, marked in severity worse towards the right.\\nAt C6-7, there is central disc herniation protrusion type with moderate to severe canal stenosis and cord\\nindentation with foraminal narrowing identified bilaterally, worse towards the left moderate in severity.\\nAt C7-T1, disc herniation centrally is identified with moderate canal stenosis identified. There is\\nanterolisthesis of 3 mm identified. There is foraminal narrowing identified bilaterally, moderate-to-\\nmarked in severity worse towards the left side. Uncovertebral joint hypertrophy and facet\\nosteoarthropathy is identified.\\nThere is scattered lymphadenopathy identified throughout the neck and clinical correlation is\\nrecommended to assess this adenopathy further. Lymphadenopathy is worst towards the left\\nsupraclavicular region.\\n', \n",
    "'IMPRESSION': 'IMPRESSION:\\n1. C5-6 disc bulge and disc herniation to the right with moderate to severe canal stenosis and cord\\nindentation with foraminal narrowing bilaterally, worse towards the marked in severity.\\n2. C6-7 disc bulge is identified with disc herniation and moderate to severe canal stenosis with cord\\nindentation and foraminal narrowing identified bilaterally, mild towards the right and moderate\\ntowards the left.\\n3. C4-5 disc bulge and disc herniation to the right with moderate canal stenosis and cord indentation\\nwith foraminal narrowing identified, worse towards the right marked in severity.\\n4. C3-4 focal disc herniation protrusion type without canal stenosis.\\n5. There is lymphadenopathy in the neck identified with dominant area of apparent left-sided\\nsupraclavicular adenopathy identified measuring approximately 2.7 cm. Correlation with CT\\nneck with contrast is recommended to assess this adenopathy further as underlying lymphoma\\nwould be of utmost concern given the size of the lymphadenopathy that is present.\\n'}\n",
    "\"\"\"\n",
    "text2 = text2.replace(\"\\n\", \"\")\n",
    "print(text1)\n",
    "print(\"----------------------\\n \\n\")\n",
    "\n",
    "print(text2)\n",
    "print(\"----------------------\\n \\n\")"
   ]
  },
  {
   "cell_type": "code",
   "execution_count": 29,
   "id": "745c0190-7e9f-4c61-a1a9-75b4f55209b9",
   "metadata": {},
   "outputs": [
    {
     "name": "stdout",
     "output_type": "stream",
     "text": [
      "https://healthcare.googleapis.com/v1/projects/aug2022-361002/locations/us-central1/services/nlp:analyzeEntities\n",
      "{'nlpService': 'projects/aug2022-361002/locations/us-central1/services/nlp', 'documentContent': \"{'HISTORY': 'HISTORY: Chronic neck pain.', 'TECHNIQUE': 'TECHNIQUE: Sagittal T1, T2 gradient-echo, axial gradient-echo sequences were obtained through thecervical spine. Additional MR myelographic sequence was performed.', 'COMPARISON': 'COMPARISON: No prior films are available for comparison.', 'FINDINGS': 'FINDINGS: There is loss of cervical lordosis is identified. Posterior spinous processes are intact. Thereis loss of disc space height at C5-6 and C6-7 with osteophyte extending anteriorly. No syrinx is identifiedin the cord.The ring of C1 is intact. Atlantoaxial joint has hypertrophic changes. Cervical ligaments at the base ofthe skull appear intact.In the upper thoracic spine, there is no canal stenosis identified.STIR sequences demonstrate no significant bone marrow edema.The facets appear unremarkable. Alar ligaments demonstrate no hyperintense signal.At C2-3, there is disc bulge diffusely and facet hypertrophy, moderate to marked in severity. There ismild left foraminal narrowing identified.At C3-4, there is focal disc herniation protrusion type identified with mild canal stenosis. The neuralforamina demonstrate narrowing towards the left, moderate-to-marked in severity with uncovertebral jointhypertrophy and facet arthropathy identified.At C4-5, there is disc bulge and disc herniation to the right with moderate canal stenosis and cordindentation with foraminal narrowing identified bilaterally, worse towards the right marked in severity.There is facet arthropathy, worse towards the right side.Continued on the following page.At C5-6, there is disc bulge and disc herniation identified with moderate to severe canal stenosis and cordindentation with foraminal narrowing bilaterally, marked in severity worse towards the right.At C6-7, there is central disc herniation protrusion type with moderate to severe canal stenosis and cordindentation with foraminal narrowing identified bilaterally, worse towards the left moderate in severity.At C7-T1, disc herniation centrally is identified with moderate canal stenosis identified. There isanterolisthesis of 3 mm identified. There is foraminal narrowing identified bilaterally, moderate-to-marked in severity worse towards the left side. Uncovertebral joint hypertrophy and facetosteoarthropathy is identified.There is scattered lymphadenopathy identified throughout the neck and clinical correlation isrecommended to assess this adenopathy further. Lymphadenopathy is worst towards the leftsupraclavicular region.', 'IMPRESSION': 'IMPRESSION:1. C5-6 disc bulge and disc herniation to the right with moderate to severe canal stenosis and cordindentation with foraminal narrowing bilaterally, worse towards the marked in severity.2. C6-7 disc bulge is identified with disc herniation and moderate to severe canal stenosis with cordindentation and foraminal narrowing identified bilaterally, mild towards the right and moderatetowards the left.3. C4-5 disc bulge and disc herniation to the right with moderate canal stenosis and cord indentationwith foraminal narrowing identified, worse towards the right marked in severity.4. C3-4 focal disc herniation protrusion type without canal stenosis.5. There is lymphadenopathy in the neck identified with dominant area of apparent left-sidedsupraclavicular adenopathy identified measuring approximately 2.7 cm. Correlation with CTneck with contrast is recommended to assess this adenopathy further as underlying lymphomawould be of utmost concern given the size of the lymphadenopathy that is present.'}\"}\n"
     ]
    }
   ],
   "source": [
    "from google.oauth2 import service_account\n",
    "from google.auth.transport.requests import AuthorizedSession\n",
    "from google.auth import compute_engine\n",
    "import json\n",
    "\n",
    "PROJECT_ID=\"aug2022-361002\"\n",
    "URL=\"https://healthcare.googleapis.com/v1/projects/\"+PROJECT_ID+\"/locations/us-central1/services/nlp:analyzeEntities\"\n",
    "NLP_SERVICE='projects/'+PROJECT_ID+'/locations/us-central1/services/nlp'\n",
    "\n",
    "# Define the required scopes\n",
    "scopes = [\n",
    "    \"https://www.googleapis.com/auth/cloud-platform\"\n",
    "]\n",
    "\n",
    "# Authenticate a credential with the service account\n",
    "credentials = compute_engine.Credentials()\n",
    "\n",
    "# Use the credentials object to authenticate a Requests session.\n",
    "authed_session = AuthorizedSession(credentials)\n",
    "\n",
    "payload = {\n",
    "    'nlpService': NLP_SERVICE,\n",
    "    'documentContent': text2 #'Insulin regimen human 5 units IV administered.'\n",
    "}\n",
    "# Use the credentials object to authenticate a Requests session.\n",
    "url = URL\n",
    "print(url)\n",
    "print(payload)\n",
    "headers = {\"Accept\": \"application/json\"}\n",
    "response = authed_session.post(\n",
    "    url,\n",
    "    json = payload,\n",
    "    headers=headers\n",
    ")\n",
    "\n",
    "data = response.json()\n",
    "# Writing to sample.json\n",
    "with open(\"text2.json\", \"w\") as outfile:\n",
    "    outfile.write(json.dumps(data, indent=4))"
   ]
  },
  {
   "cell_type": "markdown",
   "id": "64710605-834e-415e-82ee-9c9fab556e8b",
   "metadata": {},
   "source": [
    "## Printing the raw data. To better see the results, take this and use a json viewer such as \n",
    "http://jsonviewer.stack.hu/"
   ]
  },
  {
   "cell_type": "code",
   "execution_count": null,
   "id": "f4ce559a-8757-4d87-b47e-e9788dd800a3",
   "metadata": {},
   "outputs": [],
   "source": [
    "print(json.dumps(data, indent = 4))"
   ]
  },
  {
   "cell_type": "raw",
   "id": "17bcaee7-1111-4c61-bda3-0517b900773d",
   "metadata": {},
   "source": [
    "## Let's summarize all the entities in the results"
   ]
  },
  {
   "cell_type": "code",
   "execution_count": 23,
   "id": "56435700-bfa3-468b-a57f-b5c90ba65bbc",
   "metadata": {},
   "outputs": [],
   "source": [
    "import pandas as pd\n",
    "column_names = [\"Entity#\", \"Entity type\", \"Content\", \"Entity confidence\",\"Temporal Assessment\", \"Temporal Confidence\", \"Liklihood\", \"Liklihood Confidence\", \"Subject\", \"Subject Confidence\"]\n",
    "dfentities = pd.DataFrame(columns = column_names)\n",
    "new_row = {}\n",
    "\n",
    "for entity in data['entityMentions']:\n",
    "    new_row['Entity type'] = entity['type']\n",
    "    new_row['Entity confidence'] = entity['confidence']\n",
    "    new_row['Content'] = entity['text']['content']\n",
    "    new_row['Entity#'] = entity['mentionId']\n",
    "\n",
    "    if 'temporalAssessment' in entity:\n",
    "        new_row['Temporal Assessment'] = entity['temporalAssessment']['value']\n",
    "        new_row['Temporal Confidence'] = entity['temporalAssessment']['confidence']\n",
    "        \n",
    "    if 'certaintyAssessment' in entity:\n",
    "        new_row['Liklihood'] = entity['certaintyAssessment']['value']\n",
    "        new_row['Liklihood Confidence'] = entity['certaintyAssessment']['confidence']\n",
    "  \n",
    "    if 'subject' in entity:\n",
    "        new_row['Subject'] = entity['subject']['value']\n",
    "        new_row['Subject Confidence'] = entity['subject']['confidence']\n",
    "  \n",
    "    dfentities = dfentities.append(new_row, ignore_index=True) \n",
    "    \n",
    "dfentities.to_csv('entities.csv')"
   ]
  },
  {
   "cell_type": "markdown",
   "id": "e63b3cce-4c98-4be6-b6ea-a2757be0a5df",
   "metadata": {},
   "source": [
    "## Let's summarize all the relationships of the \"MEDICINE\" entity.\n",
    "I use the mentionId = 1 to parse the nlp outpuT and find relationships"
   ]
  },
  {
   "cell_type": "code",
   "execution_count": 21,
   "id": "bcf3cdb6-a62d-435f-bc76-393ee4a171e5",
   "metadata": {},
   "outputs": [],
   "source": [
    "def getEntity(id):\n",
    "    for entity in data['entityMentions']:\n",
    "        if entity['mentionId'] == id:\n",
    "            return entity\n"
   ]
  },
  {
   "cell_type": "code",
   "execution_count": 24,
   "id": "19f11742-08f5-444d-acc2-476809ea2804",
   "metadata": {},
   "outputs": [
    {
     "name": "stdout",
     "output_type": "stream",
     "text": [
      "62\n"
     ]
    }
   ],
   "source": [
    "import pandas as pd\n",
    "\n",
    "\n",
    "column_names = [\"Subject Type\", \"Subject Name\", \"Object Type\", \"Object Name\", \"Confidence\"]\n",
    "dfrels = pd.DataFrame(columns = column_names)\n",
    "new_row = {}\n",
    "print(len(data['relationships']))\n",
    "for r in data['relationships']:\n",
    "    #Get Subject\n",
    "    subject = getEntity(r['subjectId'])\n",
    "    obj = getEntity(r['objectId'])\n",
    "    new_row[\"Subject Type\"] = subject['type']\n",
    "    new_row[\"Subject Name\"] = subject['text']['content']\n",
    "    new_row[\"Object Type\"] = obj['type']\n",
    "    new_row[\"Object Name\"] = obj['text']['content']\n",
    "    new_row[\"Confidence\"] = r['confidence']\n",
    "    dfrels = dfrels.append(new_row, ignore_index=True) \n",
    "    #print(new_row)\n",
    "        \n",
    "dfrels.to_csv('rel.csv')"
   ]
  },
  {
   "cell_type": "code",
   "execution_count": null,
   "id": "ce9e68df-87fe-4003-95eb-2e3a1809c1c5",
   "metadata": {},
   "outputs": [],
   "source": []
  },
  {
   "cell_type": "code",
   "execution_count": null,
   "id": "12d0956b-1a4a-4d8e-80c3-49ff7b50bba3",
   "metadata": {},
   "outputs": [],
   "source": []
  }
 ],
 "metadata": {
  "environment": {
   "kernel": "python3",
   "name": "common-cpu.m94",
   "type": "gcloud",
   "uri": "gcr.io/deeplearning-platform-release/base-cpu:m94"
  },
  "kernelspec": {
   "display_name": "Python (Local)",
   "language": "python",
   "name": "local-base"
  },
  "language_info": {
   "codemirror_mode": {
    "name": "ipython",
    "version": 3
   },
   "file_extension": ".py",
   "mimetype": "text/x-python",
   "name": "python",
   "nbconvert_exporter": "python",
   "pygments_lexer": "ipython3",
   "version": "3.7.12"
  }
 },
 "nbformat": 4,
 "nbformat_minor": 5
}
